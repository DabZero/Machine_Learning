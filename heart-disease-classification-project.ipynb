{
 "cells": [
  {
   "cell_type": "markdown",
   "id": "6b98f563-0bdb-4036-909d-7992073a3438",
   "metadata": {},
   "source": [
    "### Classification Project - Predicting heart disease  \r",
    "This project uses Python based Machine Learning (ML) to build a **model capable of predicting heart disease** given medical data attributes. The data is sourced from the widely used UC Irvine Machine Learning Repository. The Python libraries used are from Scikit-learn, Pandas, NumPy, Matplotlib and Seaborn.\r",
    "<br>\r",
    "The end results will include a model that has been tuned, including feature importance, cross validation, metric reporting and visual representation."
   ]
  },
  {
   "cell_type": "markdown",
   "id": "a6d171a7-46b4-4d37-844b-bc546cb088e3",
   "metadata": {},
   "source": [
    "![](images/6-step-ml-framework.png)"
   ]
  },
  {
   "cell_type": "markdown",
   "id": "52d2e7f3-8e56-43d7-b388-c7dfc621aadc",
   "metadata": {},
   "source": [
    "#### 1.  Problem definition\n",
    "Given clinical parameters about a patient, can we predict whether or not they have heart disease?"
   ]
  },
  {
   "cell_type": "markdown",
   "id": "ec338601-831a-432d-a53f-1d26e5cce5e6",
   "metadata": {},
   "source": [
    "#### 2.  Data \n",
    "The original data came from the Clevland data UCI Machine Learning Repository. https://archive.ics.uci.edu/ml/datasets/heart+Disease There is also a version of it available on Kaggle. https://www.kaggle.com/ronitf/heart-disease-uci"
   ]
  },
  {
   "cell_type": "markdown",
   "id": "9811ed6a-077e-42e3-bb7d-08b2e5a4c811",
   "metadata": {},
   "source": [
    "#### 3.  Evaluation\n",
    "If we can reach `85% accuracy` predicting whether or not a patient has heart disease during the proof of concept, we'll pursue the project."
   ]
  },
  {
   "cell_type": "markdown",
   "id": "956d1839-cfa1-4409-96de-f69f0cf2899d",
   "metadata": {},
   "source": [
    "#### 4.  Features\n",
    "This database contains 76 attributes, but all published experiments refer to using a subset of 14 of them.  Please refer to the data dictionary below:"
   ]
  },
  {
   "cell_type": "markdown",
   "id": "16962f10-e2ad-46bb-8661-a0af02dc4281",
   "metadata": {},
   "source": [
    "![](images/attributes_hd_description.png)"
   ]
  },
  {
   "cell_type": "markdown",
   "id": "129b0b9f-2db5-4480-b3f7-1d6934e9c834",
   "metadata": {},
   "source": [
    "#### 5.  Modeling: Tools used"
   ]
  },
  {
   "cell_type": "code",
   "execution_count": 1,
   "id": "841c2e8a-7f46-43e0-bb8d-1556d760676e",
   "metadata": {},
   "outputs": [],
   "source": [
    "# (EDA) Exploring Data Analysis and plotting libraries\n",
    "import pandas as pd\n",
    "import numpy as np\n",
    "%matplotlib inline \n",
    "import matplotlib.pyplot as plt\n",
    "\n",
    "import seaborn as sns\n",
    "\n",
    "# Models from Scikit-Learn\n",
    "from sklearn.linear_model import LogisticRegression\n",
    "from sklearn.neighbors import KNeighborsClassifier\n",
    "from sklearn.ensemble import RandomForestClassifier\n",
    "from sklearn.pipeline import make_pipeline\n",
    "from sklearn import preprocessing\n",
    "from sklearn.preprocessing import StandardScaler\n",
    "\n",
    "# Model Evaluations\n",
    "from sklearn.model_selection import train_test_split, cross_val_score\n",
    "from sklearn.model_selection import RandomizedSearchCV, GridSearchCV\n",
    "from sklearn.metrics import confusion_matrix, classification_report\n",
    "from sklearn.metrics import precision_score, recall_score, f1_score\n",
    "from sklearn.metrics import RocCurveDisplay"
   ]
  },
  {
   "cell_type": "markdown",
   "id": "d150c958-64a3-4761-8bda-8e5fff790264",
   "metadata": {},
   "source": [
    "#### Setting up the Machine Learning (ML) model\n",
    "\n",
    "- Import the data set"
   ]
  },
  {
   "cell_type": "code",
   "execution_count": 2,
   "id": "9d174786-c378-464c-bbd5-0d5dd18e4b7e",
   "metadata": {},
   "outputs": [
    {
     "data": {
      "text/html": [
       "<div>\n",
       "<style scoped>\n",
       "    .dataframe tbody tr th:only-of-type {\n",
       "        vertical-align: middle;\n",
       "    }\n",
       "\n",
       "    .dataframe tbody tr th {\n",
       "        vertical-align: top;\n",
       "    }\n",
       "\n",
       "    .dataframe thead th {\n",
       "        text-align: right;\n",
       "    }\n",
       "</style>\n",
       "<table border=\"1\" class=\"dataframe\">\n",
       "  <thead>\n",
       "    <tr style=\"text-align: right;\">\n",
       "      <th></th>\n",
       "      <th>age</th>\n",
       "      <th>sex</th>\n",
       "      <th>cp</th>\n",
       "      <th>trestbps</th>\n",
       "      <th>chol</th>\n",
       "      <th>fbs</th>\n",
       "      <th>restecg</th>\n",
       "      <th>thalach</th>\n",
       "      <th>exang</th>\n",
       "      <th>oldpeak</th>\n",
       "      <th>slope</th>\n",
       "      <th>ca</th>\n",
       "      <th>thal</th>\n",
       "      <th>target</th>\n",
       "    </tr>\n",
       "  </thead>\n",
       "  <tbody>\n",
       "    <tr>\n",
       "      <th>0</th>\n",
       "      <td>63</td>\n",
       "      <td>1</td>\n",
       "      <td>3</td>\n",
       "      <td>145</td>\n",
       "      <td>233</td>\n",
       "      <td>1</td>\n",
       "      <td>0</td>\n",
       "      <td>150</td>\n",
       "      <td>0</td>\n",
       "      <td>2.3</td>\n",
       "      <td>0</td>\n",
       "      <td>0</td>\n",
       "      <td>1</td>\n",
       "      <td>1</td>\n",
       "    </tr>\n",
       "  </tbody>\n",
       "</table>\n",
       "</div>"
      ],
      "text/plain": [
       "   age  sex  cp  trestbps  chol  fbs  restecg  thalach  exang  oldpeak  slope  \\\n",
       "0   63    1   3       145   233    1        0      150      0      2.3      0   \n",
       "\n",
       "   ca  thal  target  \n",
       "0   0     1       1  "
      ]
     },
     "execution_count": 2,
     "metadata": {},
     "output_type": "execute_result"
    }
   ],
   "source": [
    "dataframe = pd.read_csv(\"data/heart-disease.csv\")   # Clevland data UCI Machine Learning Repository - Heart Disease\n",
    "dataframe.head(1)"
   ]
  },
  {
   "cell_type": "markdown",
   "id": "fed1b740-8c18-47ee-bb85-864d12abecd3",
   "metadata": {},
   "source": [
    "#### Cleaning up the data to find patterns\n",
    "* Address any missing values.\n",
    "* Transformers for any non-numerical data.\n",
    "* Find patterns and understand the data:\n",
    "    - **Engage Subject Matter Experts (SME's)** to understand the data.\n",
    "    - **Sanity check with SME's to verify finding (human input)**.\n",
    "<div>\n",
    "<img src=\"images/sme_collab.png\" width=\"400\">\n",
    "</div>\n",
    "<br>"
   ]
  },
  {
   "cell_type": "markdown",
   "id": "353c8c6f-b5b8-4daf-87db-3894a69b0e09",
   "metadata": {},
   "source": [
    "#### Feature importantance (positive/negative correlation)\n",
    "- Based on a trained ML models\n",
    "- How important is each feature to the target (independent variable)\n",
    "- Allows us to scrap un-important features\n",
    "- Get more insight from SME's"
   ]
  },
  {
   "cell_type": "code",
   "execution_count": 3,
   "id": "fef2dc82-7526-4a73-bb4a-ad4794727acb",
   "metadata": {},
   "outputs": [
    {
     "data": {
      "image/png": "[encoded data removed]",
      "text/plain": [
       "<Figure size 640x480 with 1 Axes>"
      ]
     },
     "metadata": {},
     "output_type": "display_data"
    }
   ],
   "source": [
    "# Split data into X and y\n",
    "X = dataframe.drop(\"target\", axis=1)\n",
    "y = dataframe[\"target\"]\n",
    "\n",
    "# Constant \n",
    "np.random.seed(42)\n",
    "\n",
    "# Split into train & test set\n",
    "X_train, X_test, y_train, y_test = train_test_split(X, y, test_size=0.2)\n",
    "\n",
    "# Fit an instance of LogisticRegression\n",
    "clf = LogisticRegression(C=0.20433597178569418, solver=\"liblinear\")\n",
    "clf.fit(X_train, y_train);\n",
    "\n",
    "# Check the coefficient(s) prior to running following code\n",
    "clf.coef_\n",
    "\n",
    "# Match coef's of features to columns\n",
    "feature_dict = dict(zip(dataframe.columns, list(clf.coef_[0])))\n",
    "\n",
    "# Visualize feature importance\n",
    "feature_df = pd.DataFrame(feature_dict, index=[0])\n",
    "feature_df.T.plot.bar(title=\"Feature Importance\", legend=False);"
   ]
  },
  {
   "cell_type": "markdown",
   "id": "58f56873-6f45-46a1-864b-e059e45854a6",
   "metadata": {},
   "source": [
    "#### Compare different ML models\n",
    "- Trained on the same data\n",
    "- Compared based on base modelperformance"
   ]
  },
  {
   "cell_type": "code",
   "execution_count": 4,
   "id": "83072f41-202a-4bbd-bae6-0fb3120378c5",
   "metadata": {},
   "outputs": [
    {
     "data": {
      "image/png": "[encoded data removed]",
      "text/plain": [
       "<Figure size 640x480 with 1 Axes>"
      ]
     },
     "metadata": {},
     "output_type": "display_data"
    }
   ],
   "source": [
    "# Put models in a dictionary\n",
    "models = {\"Logistic Regression\": LogisticRegression(max_iter=1000),\n",
    "          \"KNN\": KNeighborsClassifier(),\n",
    "          \"Random Forest\": RandomForestClassifier()}\n",
    "l = []\n",
    "# Create a function to fit and score models\n",
    "def fit_and_score(models, X_train, X_test, y_train, y_test):\n",
    "    \"\"\"\n",
    "    Fits and evaluates given machine learning models.\n",
    "    models : a dict of differetn Scikit-Learn machine learning models\n",
    "    X_train : training data (no labels)\n",
    "    X_test : testing data (no labels)\n",
    "    y_train : training labels\n",
    "    y_test : test labels\n",
    "    \"\"\"\n",
    "    # Set random seed\n",
    "    np.random.seed(42)\n",
    "    # Make a dictionary to keep model scores\n",
    "    model_scores = {}\n",
    "\n",
    "    for key, model in models.items():\n",
    "        model.fit(X_train, y_train)\n",
    "        model_scores[key] = model.score(X_test, y_test)\n",
    "    return model_scores\n",
    "    \n",
    "model_scores = fit_and_score(models, X_train, X_test, y_train, y_test)\n",
    "model_compare = pd.DataFrame(model_scores, index=[\"accuracy\"])\n",
    "\n",
    "ax = model_compare.T.plot(kind='bar') \n",
    "\n",
    "# Show accuracy scores on the bar graph\n",
    "for p in ax.patches:\n",
    "    ax.annotate(text=np.round(p.get_height(), decimals=2),\n",
    "                xy=(p.get_x()+p.get_width()/2., p.get_height()/1.2),\n",
    "                ha='center',\n",
    "                va='center',\n",
    "                xytext=(0, 10),\n",
    "                textcoords='offset points')"
   ]
  },
  {
   "cell_type": "markdown",
   "id": "efbe8966-5329-4962-88eb-ff8723037d7d",
   "metadata": {},
   "source": [
    "### Compare performance across models\n",
    "- **Logistic Regression : 88.5% accuracy**\n",
    "- Random Forest': 83.6%\n",
    "- (KNN) KNeighborsClassifier : 68.8%"
   ]
  },
  {
   "cell_type": "markdown",
   "id": "ae17528d-efa6-4a6a-80c2-c27c8ccee09f",
   "metadata": {},
   "source": [
    "#### Tune the hyperparameters \n",
    "- Score remains at 88.5% accuracy for Logistic Regression after using RandomizedSearchCV to tune the hyperparameters"
   ]
  },
  {
   "cell_type": "code",
   "execution_count": 5,
   "id": "aed3ea45-82f5-4523-9670-021f7444b3a5",
   "metadata": {},
   "outputs": [
    {
     "name": "stdout",
     "output_type": "stream",
     "text": [
      "Fitting 5 folds for each of 10 candidates, totalling 50 fits\n"
     ]
    },
    {
     "data": {
      "text/plain": [
       "0.8852459016393442"
      ]
     },
     "execution_count": 5,
     "metadata": {},
     "output_type": "execute_result"
    }
   ],
   "source": [
    "# Tune the model using RandomizedSearchCV\n",
    "logistical_regression_grid = {\"C\" : np.logspace(-4, 4, 20), \"solver\": [\"liblinear\"]}\n",
    "np.random.seed(42)\n",
    "rsCV_tuning = RandomizedSearchCV(LogisticRegression(), \n",
    "                                param_distributions = logistical_regression_grid,\n",
    "                                cv=5,\n",
    "                                n_iter=10,\n",
    "                                verbose=True)\n",
    "rsCV_tuning.fit(X_train, y_train)\n",
    "# rsCV_tuning.best_params_\n",
    "rsCV_tuning.score(X_test, y_test)"
   ]
  },
  {
   "cell_type": "markdown",
   "id": "aa3a22af-60d2-4470-be2b-73d8dbb3ff33",
   "metadata": {},
   "source": [
    "#### Cross-Validate the train and test scenarios\n",
    "- Use 5 versions of training data\n",
    "- Verify new test scores to verify consistantcy"
   ]
  },
  {
   "cell_type": "code",
   "execution_count": 6,
   "id": "7789241a-5143-4697-9174-aeab932b322d",
   "metadata": {},
   "outputs": [],
   "source": [
    "metrics = [\"accuracy\", \"precision\", \"recall\", 'f1']\n",
    "#'liblinear'\n",
    "clf = LogisticRegression(C=0.20433597178569418, solver= 'liblinear', max_iter=1000)\n",
    "cv_accuracy = cross_val_score(clf, X, y, \n",
    "                              scoring=\"accuracy\")\n",
    "# cv_accuracy.mean()\n",
    "cv1 = np.mean(cv_accuracy)\n",
    "cv_accuracy = round(cv1, 3)\n",
    "\n",
    "# Cross-validated precision\n",
    "cv_precision = cross_val_score(clf, X, y, cv=5,\n",
    "                         scoring=\"precision\")\n",
    "cv2 = np.mean(cv_precision)\n",
    "cv_precision= round(cv2, 2)\n",
    "\n",
    "# Cross-validated recall\n",
    "cv_recall = cross_val_score(clf, X, y,cv=5,\n",
    "                         scoring=\"recall\")\n",
    "cv3 = np.mean(cv_recall)\n",
    "cv_recall = round(cv3, 2)\n",
    "\n",
    "# Cross-validated f1-score\n",
    "cv_f1 = cross_val_score(clf, X, y, cv=5,\n",
    "                         scoring=\"f1\")\n",
    "cv4 = np.mean(cv_f1)\n",
    "cv_f1 = round(cv4, 2)\n",
    "\n",
    "cv_metrics = pd.DataFrame({\"Accuracy\": cv_accuracy,\n",
    "                           \"Precision\": cv_precision,\n",
    "                           \"Recall\": cv_recall,\n",
    "                           \"F1\": cv_f1},\n",
    "                          index=[0])"
   ]
  },
  {
   "cell_type": "markdown",
   "id": "ee281a72-b74e-4c78-8ad7-0598926f3d2f",
   "metadata": {},
   "source": [
    "#### Review Metrics after being cross-validated\n",
    "- `Accuracy` (default) = The percentage (%) of total predictions you got right (predicted 1 or 0/actual 1 or 0)\r\n",
    "    - TP + TN / TP + FP +TN + FN\r\n",
    "- `Precision` = What % of the subset (positive 1) of your predictions were correct.  How  good is the model at predicting True positives\r\n",
    "    - TP predicted HAS heart-disease/ TP + FP) \r\n",
    "- `Recall` = What % of actual (total positive 1).  How good is the model at predicting both (true positive and false negatives)\r\n",
    "    - TP / (TP + FN)\r\n",
    "- `F1` = Combined recall and precision\r\n",
    "    -  Equal weights for both FP and FN Harmonic mean (Precision, recall)\r\n",
    "    -  2 / recall recision"
   ]
  },
  {
   "cell_type": "markdown",
   "id": "9b6e0e46-529f-4047-812f-a140d0fd46d2",
   "metadata": {},
   "source": [
    "![](images/ConfusionMatrix.png)"
   ]
  },
  {
   "cell_type": "code",
   "execution_count": 7,
   "id": "83563e1c-647d-47c1-b9f1-28db37b5bf87",
   "metadata": {},
   "outputs": [
    {
     "data": {
      "text/html": [
       "<div>\n",
       "<style scoped>\n",
       "    .dataframe tbody tr th:only-of-type {\n",
       "        vertical-align: middle;\n",
       "    }\n",
       "\n",
       "    .dataframe tbody tr th {\n",
       "        vertical-align: top;\n",
       "    }\n",
       "\n",
       "    .dataframe thead th {\n",
       "        text-align: right;\n",
       "    }\n",
       "</style>\n",
       "<table border=\"1\" class=\"dataframe\">\n",
       "  <thead>\n",
       "    <tr style=\"text-align: right;\">\n",
       "      <th></th>\n",
       "      <th>Accuracy</th>\n",
       "      <th>Precision</th>\n",
       "      <th>Recall</th>\n",
       "      <th>F1</th>\n",
       "    </tr>\n",
       "  </thead>\n",
       "  <tbody>\n",
       "    <tr>\n",
       "      <th>0</th>\n",
       "      <td>0.845</td>\n",
       "      <td>0.82</td>\n",
       "      <td>0.92</td>\n",
       "      <td>0.87</td>\n",
       "    </tr>\n",
       "  </tbody>\n",
       "</table>\n",
       "</div>"
      ],
      "text/plain": [
       "   Accuracy  Precision  Recall    F1\n",
       "0     0.845       0.82    0.92  0.87"
      ]
     },
     "execution_count": 7,
     "metadata": {},
     "output_type": "execute_result"
    }
   ],
   "source": [
    "cv_metrics"
   ]
  },
  {
   "cell_type": "code",
   "execution_count": 8,
   "id": "291da9b1-7bc8-4e15-af7f-5dd24f39ebb7",
   "metadata": {},
   "outputs": [
    {
     "data": {
      "image/png": "[encoded data removed]",
      "text/plain": [
       "<Figure size 640x480 with 1 Axes>"
      ]
     },
     "metadata": {},
     "output_type": "display_data"
    }
   ],
   "source": [
    "ax = cv_metrics.T.plot(kind='bar', title=\"Cross-validated classification metrics\",\n",
    "                      legend=False) \n",
    "\n",
    "# Show accuracy scores on the bar graph\n",
    "# https://matplotlib.org/3.3.0/api/_as_gen/matplotlib.axes.Axes.annotate.html\n",
    "for p in ax.patches:\n",
    "    ax.annotate(text=np.round(p.get_height(), decimals=2),\n",
    "                xy=(p.get_x()+p.get_width()/2., p.get_height()/1.2),\n",
    "                ha='center',\n",
    "                va='center',\n",
    "                xytext=(0, 10),\n",
    "                textcoords='offset points')"
   ]
  },
  {
   "cell_type": "markdown",
   "id": "27fe1333-ce04-447d-9056-9bb718c44baf",
   "metadata": {},
   "source": [
    "#### Summerizing the metric results\n",
    "- It is really bad if the model is good at prediction only 1 of the 2 possible outcomes.  This is why it could be misleading to look at precission and recall in isolation.  When looking at the F1 score we see that when both (precision and recall) are looked at together it gives us a balanced view of how well the model predicts both together."
   ]
  },
  {
   "cell_type": "markdown",
   "id": "2d03f824-ca6f-4d23-9583-cc6743a0eea6",
   "metadata": {},
   "source": [
    "#### Considerations to acheive higher metric scores\n",
    "* Get more data\n",
    "* Consider other models to use like CatBoost or XGBoost\n",
    "* Consider sharing your data with colleagues... Save and load directions below"
   ]
  },
  {
   "cell_type": "code",
   "execution_count": 9,
   "id": "e0db24a8-b5ee-49be-9aa3-1e4e6cf6e28a",
   "metadata": {},
   "outputs": [],
   "source": [
    "# import pickle\n",
    "\n",
    "# used to save the notebook in the current folder\n",
    "#pickle.dump(clf, open(\"Logistic_Regression_model_1.pkl\", 'wb'))\n",
    "\n",
    "#used to load the model\n",
    "# loaded_model = pickle.load(open(\"Logistic_Regression_model_1.pkl\", 'rb'))\n",
    "# loaded_model.score(X-test, y_test)"
   ]
  }
 ],
 "metadata": {
  "kernelspec": {
   "display_name": "Python 3 (ipykernel)",
   "language": "python",
   "name": "python3"
  },
  "language_info": {
   "codemirror_mode": {
    "name": "ipython",
    "version": 3
   },
   "file_extension": ".py",
   "mimetype": "text/x-python",
   "name": "python",
   "nbconvert_exporter": "python",
   "pygments_lexer": "ipython3",
   "version": "3.12.2"
  }
 },
 "nbformat": 4,
 "nbformat_minor": 5
}
